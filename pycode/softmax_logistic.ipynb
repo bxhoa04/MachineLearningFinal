{
 "cells": [
  {
   "metadata": {},
   "cell_type": "markdown",
   "source": "# Softmax_Logistic cho bài toán phân loại",
   "id": "e5b27cf487a1f574"
  },
  {
   "metadata": {
    "ExecuteTime": {
     "end_time": "2025-01-14T05:05:32.612865Z",
     "start_time": "2025-01-14T05:05:12.313693Z"
    }
   },
   "cell_type": "code",
   "source": [
    "import pandas as pd\n",
    "from sklearn.decomposition import PCA\n",
    "from sklearn.neighbors import  KNeighborsRegressor\n",
    "from umap_function import UMAP_Processor\n",
    "from pca_function import PCA_Processor\n",
    "from sklearn.impute import SimpleImputer\n",
    "from sklearn.metrics import accuracy_score, classification_report, confusion_matrix\n",
    "from sklearn.preprocessing import StandardScaler\n",
    "from data_preprocessor import DataPreprocessor\n",
    "from sklearn.linear_model import LogisticRegression\n",
    "import warnings\n",
    "warnings.filterwarnings('ignore')"
   ],
   "id": "36586f1df711ad2b",
   "outputs": [],
   "execution_count": 3
  },
  {
   "metadata": {
    "ExecuteTime": {
     "end_time": "2025-01-13T17:23:31.579332Z",
     "start_time": "2025-01-13T17:23:31.187652Z"
    }
   },
   "cell_type": "code",
   "source": [
    "classifiers = [\n",
    "    LogisticRegression(multi_class='multinomial', solver='lbfgs', max_iter=200),\n",
    "]\n",
    "class softmax_Logistic_Processor:\n",
    "    def __init__(self, data_path, target_column, n_components=2, test_size=0.2, random_state=42):\n",
    "        self.data_path = data_path\n",
    "        self.target_column = target_column\n",
    "        self.n_components = n_components\n",
    "        self.test_size = test_size\n",
    "        self.random_state = random_state\n",
    "\n",
    "        preprocessor = DataPreprocessor(self.data_path, self.target_column)\n",
    "        self.X, self.y, self.df = preprocessor.preprocess()\n",
    "\n",
    "    def _scale_and_impute(self, X):\n",
    "        scaler = StandardScaler()\n",
    "        imputer = SimpleImputer(strategy='mean')\n",
    "        return imputer.fit_transform(scaler.fit_transform(X))\n",
    "\n",
    "    def _evaluate_classifiers(self, X_train, X_test, y_train, y_test, classifiers):\n",
    "        results = {}\n",
    "        for clf in classifiers:\n",
    "            clf_name = clf.__class__.__name__\n",
    "            clf.fit(X_train, y_train)\n",
    "            y_pred = clf.predict(X_test)\n",
    "            results[clf_name] = {\n",
    "                \"accuracy\": accuracy_score(y_test, y_pred),\n",
    "                \"classification_report\": classification_report(y_test, y_pred),\n",
    "                \"matrix\": confusion_matrix(y_test, y_pred)\n",
    "            }\n",
    "        return results\n",
    "    def results_classifier_original(self, classifiers):\n",
    "        X_train, X_test, y_train, y_test = train_test_split(self.X, self.y, test_size=self.test_size,\n",
    "                                                            random_state=self.random_state)\n",
    "        X_train_scaled, X_test_scaled = self._scale_and_impute(X_train), self._scale_and_impute(X_test)\n",
    "        return self._evaluate_classifiers(X_train_scaled, X_test_scaled, y_train, y_test, classifiers)\n",
    "\n",
    "    def apply_pca(self, classifiers):\n",
    "        pca_processor = PCA_Processor(\n",
    "            data_path='../data/framingham.csv',  # Đường dẫn đến file dữ liệu\n",
    "            target_column='TenYearCHD',  # Cột mục tiêu\n",
    "            n_components=5,  # Số chiều sau khi giảm chiều\n",
    "            test_size=0.2,  # Tỷ lệ dữ liệu dùng để thử nghiệm\n",
    "            random_state=42  # Hạt giống cho phép lặp lại các kết quả\n",
    "        )\n",
    "\n",
    "        pca_processor.n_components = 5\n",
    "\n",
    "        results_pca_before = pca_processor.apply_pca_before_split(classifiers)\n",
    "        print(\"\\n\\n===== Kết quả với dữ liệu sau khi áp dụng giảm chiều PCA =====\")\n",
    "        print_results(results_pca_before)\n",
    "\n",
    "    def apply_umap(self, classifiers):\n",
    "        umap_processor = UMAP_Processor(\n",
    "            data_path = '../data/framingham.csv',\n",
    "            target_column = 'TenYearCHD',\n",
    "            n_components = 5,\n",
    "            test_size = 0.2,  # Tỷ lệ dữ liệu dùng để thử nghiệm\n",
    "            random_state = 42  # Hạt giống cho phép lặp lại các kết quả\n",
    "        )\n",
    "        # Kết quả sau khi áp dụng umap với n_components tối ưu\n",
    "        results_after_umap = umap_processor.apply_optimal_n_components(classifiers)\n",
    "\n",
    "        print(\"\\n\\n===== Kết quả với dữ liệu sau khi áp dụng giảm chiều UMAP =====\")\n",
    "        print_results(results_after_umap)\n",
    "\n",
    "def print_results(results):\n",
    "    for clf_name, metrics in results.items():\n",
    "        print(f\"Accuracy {clf_name:<25}{metrics['accuracy'] : <10.4f}\")\n",
    "        print(f\"\\nClassification Report for {clf_name}:\")\n",
    "        print(metrics['classification_report'])\n",
    "        print(f\"\\nConfusion Matrix for {clf_name}:\")\n",
    "        print(metrics['matrix'])"
   ],
   "id": "f76102f38934496",
   "outputs": [],
   "execution_count": 6
  },
  {
   "metadata": {
    "ExecuteTime": {
     "end_time": "2025-01-13T17:23:32.372392Z",
     "start_time": "2025-01-13T17:23:31.792712Z"
    }
   },
   "cell_type": "code",
   "source": [
    "softmax_logistic = softmax_Logistic_Processor(\n",
    "    data_path='../data/framingham.csv',  \n",
    "    target_column='TenYearCHD',  \n",
    "    n_components=5,  \n",
    "    test_size=0.2,\n",
    "    random_state=42\n",
    ")"
   ],
   "id": "14e248dfe12c6807",
   "outputs": [],
   "execution_count": 7
  },
  {
   "metadata": {
    "ExecuteTime": {
     "end_time": "2025-01-13T17:23:32.777544Z",
     "start_time": "2025-01-13T17:23:32.451769Z"
    }
   },
   "cell_type": "code",
   "source": [
    "print(\"\\n\\n===== Kết quả với dữ liệu gốc =====\")\n",
    "results_original = softmax_logistic.results_classifier_original(classifiers)\n",
    "print_results(results_original)"
   ],
   "id": "bb2d4d9936fa7b4a",
   "outputs": [
    {
     "name": "stdout",
     "output_type": "stream",
     "text": [
      "\n",
      "\n",
      "===== Kết quả với dữ liệu gốc =====\n",
      "Accuracy LogisticRegression       0.6539    \n",
      "\n",
      "Classification Report for LogisticRegression:\n",
      "              precision    recall  f1-score   support\n",
      "\n",
      "           0       0.67      0.64      0.65       735\n",
      "           1       0.64      0.67      0.65       704\n",
      "\n",
      "    accuracy                           0.65      1439\n",
      "   macro avg       0.65      0.65      0.65      1439\n",
      "weighted avg       0.65      0.65      0.65      1439\n",
      "\n",
      "\n",
      "Confusion Matrix for LogisticRegression:\n",
      "[[472 263]\n",
      " [235 469]]\n"
     ]
    }
   ],
   "execution_count": 8
  },
  {
   "metadata": {
    "ExecuteTime": {
     "end_time": "2025-01-13T17:23:33.046871Z",
     "start_time": "2025-01-13T17:23:32.816434Z"
    }
   },
   "cell_type": "code",
   "source": "softmax_logistic.apply_pca(classifiers)",
   "id": "6f179fdf4b415ff6",
   "outputs": [
    {
     "name": "stdout",
     "output_type": "stream",
     "text": [
      "\n",
      "\n",
      "===== Kết quả với dữ liệu sau khi áp dụng giảm chiều PCA =====\n",
      "Accuracy LogisticRegression       0.6525    \n",
      "\n",
      "Classification Report for LogisticRegression:\n",
      "              precision    recall  f1-score   support\n",
      "\n",
      "           0       0.67      0.64      0.65       735\n",
      "           1       0.64      0.66      0.65       704\n",
      "\n",
      "    accuracy                           0.65      1439\n",
      "   macro avg       0.65      0.65      0.65      1439\n",
      "weighted avg       0.65      0.65      0.65      1439\n",
      "\n",
      "\n",
      "Confusion Matrix for LogisticRegression:\n",
      "[[473 262]\n",
      " [238 466]]\n"
     ]
    }
   ],
   "execution_count": 9
  },
  {
   "metadata": {
    "ExecuteTime": {
     "end_time": "2025-01-13T17:31:57.117245Z",
     "start_time": "2025-01-13T17:23:33.073200Z"
    }
   },
   "cell_type": "code",
   "source": "softmax_logistic.apply_umap(classifiers)",
   "id": "49198026f65506f7",
   "outputs": [
    {
     "name": "stdout",
     "output_type": "stream",
     "text": [
      "\n",
      "\n",
      "===== Kết quả với dữ liệu sau khi áp dụng giảm chiều UMAP =====\n",
      "Accuracy LogisticRegression       0.5490    \n",
      "\n",
      "Classification Report for LogisticRegression:\n",
      "              precision    recall  f1-score   support\n",
      "\n",
      "           0       0.56      0.59      0.57       735\n",
      "           1       0.54      0.51      0.53       704\n",
      "\n",
      "    accuracy                           0.55      1439\n",
      "   macro avg       0.55      0.55      0.55      1439\n",
      "weighted avg       0.55      0.55      0.55      1439\n",
      "\n",
      "\n",
      "Confusion Matrix for LogisticRegression:\n",
      "[[430 305]\n",
      " [344 360]]\n"
     ]
    }
   ],
   "execution_count": 10
  },
  {
   "metadata": {},
   "cell_type": "markdown",
   "source": "# Softmax_Logistic cho bài toán hồi quy",
   "id": "ae7875d01bc004b7"
  },
  {
   "metadata": {
    "ExecuteTime": {
     "end_time": "2025-01-14T06:29:39.704009Z",
     "start_time": "2025-01-14T06:29:39.381895Z"
    }
   },
   "cell_type": "code",
   "source": [
    "from sklearn.linear_model import LinearRegression, LogisticRegression\n",
    "from sklearn.metrics import mean_squared_error, r2_score\n",
    "from sklearn.model_selection import train_test_split\n",
    "from sklearn.neighbors import KNeighborsClassifier\n",
    "\n",
    "class RegressionProcessor:\n",
    "    def __init__(self, data_path, target_column, test_size=0.2, random_state=42):\n",
    "        self.data_path = data_path\n",
    "        self.target_column = target_column\n",
    "        self.test_size = test_size\n",
    "        self.random_state = random_state\n",
    "\n",
    "        preprocessor = DataPreprocessor(self.data_path, self.target_column)\n",
    "        self.X, self.y = preprocessor.preprocess()\n",
    "\n",
    "    def predict_probabilities(self):\n",
    "        model = LogisticRegression(multi_class='multinomial', solver='lbfgs', max_iter=200)\n",
    "        model.fit(self.X, self.y)\n",
    "        probabilities = model.predict_proba(self.X)\n",
    "        return probabilities\n",
    "\n",
    "    def evaluate_regression(self):\n",
    "        probabilities = self.predict_probabilities()\n",
    "        decision_values = probabilities[:, 1]\n",
    "\n",
    "        # Chia dữ liệu thành tập huấn luyện và kiểm tra\n",
    "        X_train, X_test, y_train, y_test = train_test_split(self.X, decision_values, test_size=self.test_size,\n",
    "                                                            random_state=self.random_state)\n",
    "\n",
    "        # Hồi quy với Linear Regression\n",
    "        reg_model1 = LinearRegression()\n",
    "        reg_model1.fit(X_train, y_train)\n",
    "        y_pred1 = reg_model1.predict(X_test)\n",
    "\n",
    "        # Hồi quy với KNeighborsRegressor\n",
    "        reg_model2 = KNeighborsRegressor()\n",
    "        reg_model2.fit(X_train, y_train)\n",
    "        y_pred2 = reg_model2.predict(X_test)\n",
    "\n",
    "        # Đánh giá hiệu suất\n",
    "        mse1 = mean_squared_error(y_test, y_pred1)\n",
    "        r2_1 = r2_score(y_test, y_pred1)\n",
    "\n",
    "        mse2 = mean_squared_error(y_test, y_pred2)\n",
    "        r2_2 = r2_score(y_test, y_pred2)\n",
    "\n",
    "        print(f'Mean Squared Error (Linear Regression): {mse1:.4f}, R^2 Score: {r2_1:.4f}')\n",
    "        print(f'Mean Squared Error (KNN): {mse2:.4f}, R^2 Score: {r2_2:.4f}')\n",
    "\n",
    "        results = {\n",
    "            'Model': ['Linear Regression', 'KNN'],\n",
    "            'MSE': [mse1,mse2],\n",
    "            'R^2 Score': [r2_1,r2_2]\n",
    "        }\n",
    "        results_df = pd.DataFrame(results)\n",
    "        return results_df\n",
    "\n",
    "    def evaluate_regression_pca(self):\n",
    "        # Giảm chiều dữ liệu bằng PCA\n",
    "        pca = PCA(n_components=5)\n",
    "        X_reduced = pca.fit_transform(self.X)\n",
    "\n",
    "        # Chia dữ liệu đã giảm chiều thành tập huấn luyện và kiểm tra\n",
    "        X_train, X_test, y_train, y_test = train_test_split(X_reduced, self.y, test_size=self.test_size,\n",
    "                                                            random_state=self.random_state)\n",
    "        # Hồi quy với Linear Regression\n",
    "        reg_model1 = LinearRegression()\n",
    "        reg_model1.fit(X_train, y_train)\n",
    "        y_pred1 = reg_model1.predict(X_test)\n",
    "    \n",
    "        # Hồi quy với KNeighborsClassifier\n",
    "        reg_model2 = KNeighborsClassifier()\n",
    "        reg_model2.fit(X_train, y_train)\n",
    "        y_pred2 = reg_model2.predict(X_test)\n",
    "        \n",
    "        mse1 = mean_squared_error(y_test, y_pred1)\n",
    "        r2_1 = r2_score(y_test, y_pred1)\n",
    "        \n",
    "        # Đánh giá hiệu suất\n",
    "        mse2 = mean_squared_error(y_test, y_pred2)\n",
    "        r2_2 = r2_score(y_test, y_pred2)\n",
    "\n",
    "        print(f'Mean Squared Error (PCA Linear Regression): {mse1:.4f}, R^2 Score: {r2_1:.4f}')\n",
    "        print(f'Mean Squared Error (KNN): {mse2:.4f}, R^2 Score: {r2_2:.4f}')\n",
    "        \n",
    "        # Tạo DataFrame từ kết quả mô hình gốc\n",
    "        results = {\n",
    "            'Model': ['PCA Linear Regression', ' PCA KNN'],\n",
    "            'MSE': [mse1,mse2],\n",
    "            'R^2 Score': [r2_1,r2_2]\n",
    "        }\n",
    "        results_df = pd.DataFrame(results)\n",
    "        return results_df\n",
    "\n",
    "if __name__ == \"__main__\":\n",
    "    reg_processor = RegressionProcessor(data_path='../data/framingham.csv', target_column='TenYearCHD')\n",
    "\n",
    "    results_df = reg_processor.evaluate_regression()\n",
    "    results_pca_df = reg_processor.evaluate_regression_pca()\n",
    "    combined_df = pd.concat([results_df, results_pca_df], ignore_index=True)\n",
    "\n",
    "    print(\"\\nKết quả đánh giá hồi quy:\")\n",
    "    print(combined_df)"
   ],
   "id": "858608ee2828c6d3",
   "outputs": [
    {
     "name": "stdout",
     "output_type": "stream",
     "text": [
      "Mean Squared Error (Linear Regression): 0.0004, R^2 Score: 0.9883\n",
      "Mean Squared Error (KNN): 0.0004, R^2 Score: 0.9883\n",
      "Mean Squared Error (PCA Linear Regression): 0.2270, R^2 Score: 0.0917\n",
      "Mean Squared Error (KNN): 0.2231, R^2 Score: 0.1073\n",
      "\n",
      "Kết quả đánh giá hồi quy:\n",
      "                   Model       MSE  R^2 Score\n",
      "0      Linear Regression  0.000433   0.988299\n",
      "1                    KNN  0.000433   0.988300\n",
      "2  PCA Linear Regression  0.226976   0.091673\n",
      "3                PCA KNN  0.223072   0.107299\n"
     ]
    }
   ],
   "execution_count": 19
  }
 ],
 "metadata": {
  "kernelspec": {
   "display_name": "Python 3",
   "language": "python",
   "name": "python3"
  },
  "language_info": {
   "codemirror_mode": {
    "name": "ipython",
    "version": 2
   },
   "file_extension": ".py",
   "mimetype": "text/x-python",
   "name": "python",
   "nbconvert_exporter": "python",
   "pygments_lexer": "ipython2",
   "version": "2.7.6"
  }
 },
 "nbformat": 4,
 "nbformat_minor": 5
}
