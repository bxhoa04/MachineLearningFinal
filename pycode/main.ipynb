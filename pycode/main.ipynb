{
 "cells": [
  {
   "metadata": {},
   "cell_type": "markdown",
   "source": "Đọc dữ liệu",
   "id": "c353d93297f983c7"
  },
  {
   "metadata": {
    "ExecuteTime": {
     "end_time": "2025-01-14T07:43:07.741525Z",
     "start_time": "2025-01-14T07:43:07.632310Z"
    }
   },
   "cell_type": "code",
   "source": [
    "import pandas as pd\n",
    "df = pd.read_csv('framingham.csv')\n",
    "df.head()"
   ],
   "id": "2a9fb2877756ebfc",
   "outputs": [
    {
     "data": {
      "text/plain": [
       "   male  age  education  currentSmoker  cigsPerDay  BPMeds  prevalentStroke  \\\n",
       "0     1   39        4.0              0         0.0     0.0                0   \n",
       "1     0   46        2.0              0         0.0     0.0                0   \n",
       "2     1   48        1.0              1        20.0     0.0                0   \n",
       "3     0   61        3.0              1        30.0     0.0                0   \n",
       "4     0   46        3.0              1        23.0     0.0                0   \n",
       "\n",
       "   prevalentHyp  diabetes  totChol  sysBP  diaBP    BMI  heartRate  glucose  \\\n",
       "0             0         0    195.0  106.0   70.0  26.97       80.0     77.0   \n",
       "1             0         0    250.0  121.0   81.0  28.73       95.0     76.0   \n",
       "2             0         0    245.0  127.5   80.0  25.34       75.0     70.0   \n",
       "3             1         0    225.0  150.0   95.0  28.58       65.0    103.0   \n",
       "4             0         0    285.0  130.0   84.0  23.10       85.0     85.0   \n",
       "\n",
       "   TenYearCHD  \n",
       "0           0  \n",
       "1           0  \n",
       "2           0  \n",
       "3           1  \n",
       "4           0  "
      ],
      "text/html": [
       "<div>\n",
       "<style scoped>\n",
       "    .dataframe tbody tr th:only-of-type {\n",
       "        vertical-align: middle;\n",
       "    }\n",
       "\n",
       "    .dataframe tbody tr th {\n",
       "        vertical-align: top;\n",
       "    }\n",
       "\n",
       "    .dataframe thead th {\n",
       "        text-align: right;\n",
       "    }\n",
       "</style>\n",
       "<table border=\"1\" class=\"dataframe\">\n",
       "  <thead>\n",
       "    <tr style=\"text-align: right;\">\n",
       "      <th></th>\n",
       "      <th>male</th>\n",
       "      <th>age</th>\n",
       "      <th>education</th>\n",
       "      <th>currentSmoker</th>\n",
       "      <th>cigsPerDay</th>\n",
       "      <th>BPMeds</th>\n",
       "      <th>prevalentStroke</th>\n",
       "      <th>prevalentHyp</th>\n",
       "      <th>diabetes</th>\n",
       "      <th>totChol</th>\n",
       "      <th>sysBP</th>\n",
       "      <th>diaBP</th>\n",
       "      <th>BMI</th>\n",
       "      <th>heartRate</th>\n",
       "      <th>glucose</th>\n",
       "      <th>TenYearCHD</th>\n",
       "    </tr>\n",
       "  </thead>\n",
       "  <tbody>\n",
       "    <tr>\n",
       "      <th>0</th>\n",
       "      <td>1</td>\n",
       "      <td>39</td>\n",
       "      <td>4.0</td>\n",
       "      <td>0</td>\n",
       "      <td>0.0</td>\n",
       "      <td>0.0</td>\n",
       "      <td>0</td>\n",
       "      <td>0</td>\n",
       "      <td>0</td>\n",
       "      <td>195.0</td>\n",
       "      <td>106.0</td>\n",
       "      <td>70.0</td>\n",
       "      <td>26.97</td>\n",
       "      <td>80.0</td>\n",
       "      <td>77.0</td>\n",
       "      <td>0</td>\n",
       "    </tr>\n",
       "    <tr>\n",
       "      <th>1</th>\n",
       "      <td>0</td>\n",
       "      <td>46</td>\n",
       "      <td>2.0</td>\n",
       "      <td>0</td>\n",
       "      <td>0.0</td>\n",
       "      <td>0.0</td>\n",
       "      <td>0</td>\n",
       "      <td>0</td>\n",
       "      <td>0</td>\n",
       "      <td>250.0</td>\n",
       "      <td>121.0</td>\n",
       "      <td>81.0</td>\n",
       "      <td>28.73</td>\n",
       "      <td>95.0</td>\n",
       "      <td>76.0</td>\n",
       "      <td>0</td>\n",
       "    </tr>\n",
       "    <tr>\n",
       "      <th>2</th>\n",
       "      <td>1</td>\n",
       "      <td>48</td>\n",
       "      <td>1.0</td>\n",
       "      <td>1</td>\n",
       "      <td>20.0</td>\n",
       "      <td>0.0</td>\n",
       "      <td>0</td>\n",
       "      <td>0</td>\n",
       "      <td>0</td>\n",
       "      <td>245.0</td>\n",
       "      <td>127.5</td>\n",
       "      <td>80.0</td>\n",
       "      <td>25.34</td>\n",
       "      <td>75.0</td>\n",
       "      <td>70.0</td>\n",
       "      <td>0</td>\n",
       "    </tr>\n",
       "    <tr>\n",
       "      <th>3</th>\n",
       "      <td>0</td>\n",
       "      <td>61</td>\n",
       "      <td>3.0</td>\n",
       "      <td>1</td>\n",
       "      <td>30.0</td>\n",
       "      <td>0.0</td>\n",
       "      <td>0</td>\n",
       "      <td>1</td>\n",
       "      <td>0</td>\n",
       "      <td>225.0</td>\n",
       "      <td>150.0</td>\n",
       "      <td>95.0</td>\n",
       "      <td>28.58</td>\n",
       "      <td>65.0</td>\n",
       "      <td>103.0</td>\n",
       "      <td>1</td>\n",
       "    </tr>\n",
       "    <tr>\n",
       "      <th>4</th>\n",
       "      <td>0</td>\n",
       "      <td>46</td>\n",
       "      <td>3.0</td>\n",
       "      <td>1</td>\n",
       "      <td>23.0</td>\n",
       "      <td>0.0</td>\n",
       "      <td>0</td>\n",
       "      <td>0</td>\n",
       "      <td>0</td>\n",
       "      <td>285.0</td>\n",
       "      <td>130.0</td>\n",
       "      <td>84.0</td>\n",
       "      <td>23.10</td>\n",
       "      <td>85.0</td>\n",
       "      <td>85.0</td>\n",
       "      <td>0</td>\n",
       "    </tr>\n",
       "  </tbody>\n",
       "</table>\n",
       "</div>"
      ]
     },
     "execution_count": 3,
     "metadata": {},
     "output_type": "execute_result"
    }
   ],
   "execution_count": 3
  },
  {
   "metadata": {
    "ExecuteTime": {
     "end_time": "2025-01-14T07:43:07.794255Z",
     "start_time": "2025-01-14T07:43:07.782151Z"
    }
   },
   "cell_type": "code",
   "source": "df = df.drop(columns=['education'])",
   "id": "f7cfd7f3e7951feb",
   "outputs": [],
   "execution_count": 4
  },
  {
   "metadata": {
    "ExecuteTime": {
     "end_time": "2025-01-14T07:43:07.823646Z",
     "start_time": "2025-01-14T07:43:07.811325Z"
    }
   },
   "cell_type": "code",
   "source": "df.isnull().sum()",
   "id": "9b86f0447f0fba67",
   "outputs": [
    {
     "data": {
      "text/plain": [
       "male                 0\n",
       "age                  0\n",
       "currentSmoker        0\n",
       "cigsPerDay          29\n",
       "BPMeds              53\n",
       "prevalentStroke      0\n",
       "prevalentHyp         0\n",
       "diabetes             0\n",
       "totChol             50\n",
       "sysBP                0\n",
       "diaBP                0\n",
       "BMI                 19\n",
       "heartRate            1\n",
       "glucose            388\n",
       "TenYearCHD           0\n",
       "dtype: int64"
      ]
     },
     "execution_count": 5,
     "metadata": {},
     "output_type": "execute_result"
    }
   ],
   "execution_count": 5
  },
  {
   "metadata": {
    "ExecuteTime": {
     "end_time": "2025-01-14T07:43:07.887333Z",
     "start_time": "2025-01-14T07:43:07.880289Z"
    }
   },
   "cell_type": "code",
   "source": "df.shape",
   "id": "a70c0e7ac8232a87",
   "outputs": [
    {
     "data": {
      "text/plain": [
       "(4240, 15)"
      ]
     },
     "execution_count": 6,
     "metadata": {},
     "output_type": "execute_result"
    }
   ],
   "execution_count": 6
  },
  {
   "metadata": {},
   "cell_type": "markdown",
   "source": "Tiền xử lí dữ liệu",
   "id": "2326a2e9711cbb4e"
  },
  {
   "metadata": {},
   "cell_type": "markdown",
   "source": "Điền giá trị còn thiếu",
   "id": "d5e448020073e3ea"
  },
  {
   "metadata": {
    "ExecuteTime": {
     "end_time": "2025-01-14T07:43:07.939111Z",
     "start_time": "2025-01-14T07:43:07.926317Z"
    }
   },
   "cell_type": "code",
   "source": [
    "# Định nghĩa cột nhị phân\n",
    "bin_cols = [\"male\", \"currentSmoker\", \"prevalentStroke\", \"prevalentHyp\", \"diabetes\"]\n",
    "\n",
    "# Điền giá trị thiếu cho các đặc trưng nhị phân bằng giá trị thường gặp nhất (mode)\n",
    "for col in bin_cols:\n",
    "    mode_val = df[col].mode()[0]\n",
    "    df[col] = df[col].fillna(mode_val)\n",
    "\n",
    "missing_values = df.isnull().sum()"
   ],
   "id": "e04fc66491160121",
   "outputs": [],
   "execution_count": 7
  },
  {
   "metadata": {
    "ExecuteTime": {
     "end_time": "2025-01-14T07:43:08.038802Z",
     "start_time": "2025-01-14T07:43:08.026294Z"
    }
   },
   "cell_type": "code",
   "source": [
    "import numpy as np\n",
    "\n",
    "# Điền giá trị thiếu cho các đặc trưng số\n",
    "numeric_cols = [\"cigsPerDay\", \"BPMeds\", \"totChol\", \"BMI\", \"heartRate\", \"glucose\"]\n",
    "for col in numeric_cols:\n",
    "    median_val = df[col].median()\n",
    "    df[col].fillna(median_val)\n",
    "\n",
    "missing_values = df.isnull().sum()"
   ],
   "id": "36b7eb29a292a55d",
   "outputs": [],
   "execution_count": 8
  },
  {
   "metadata": {},
   "cell_type": "markdown",
   "source": "Cân bằng dữ liệu",
   "id": "60cd2f938d709cd1"
  },
  {
   "metadata": {
    "ExecuteTime": {
     "end_time": "2025-01-14T07:43:08.163041Z",
     "start_time": "2025-01-14T07:43:08.154305Z"
    }
   },
   "cell_type": "code",
   "source": "df['TenYearCHD'].value_counts()",
   "id": "5346870de175649e",
   "outputs": [
    {
     "data": {
      "text/plain": [
       "TenYearCHD\n",
       "0    3596\n",
       "1     644\n",
       "Name: count, dtype: int64"
      ]
     },
     "execution_count": 9,
     "metadata": {},
     "output_type": "execute_result"
    }
   ],
   "execution_count": 9
  },
  {
   "metadata": {
    "ExecuteTime": {
     "end_time": "2025-01-14T07:43:08.345146Z",
     "start_time": "2025-01-14T07:43:08.328159Z"
    }
   },
   "cell_type": "code",
   "source": [
    "from sklearn.utils import resample\n",
    "\n",
    "# Tách lớp đa số và lớp thiểu số\n",
    "df_majority = df[df['TenYearCHD'] == 0]\n",
    "df_minority = df[df['TenYearCHD'] == 1]\n",
    "\n",
    "# Tăng cường lớp thiểu số\n",
    "df_minority_upsampled = resample(df_minority,\n",
    "                                 replace=True,    \n",
    "                                 n_samples=len(df_majority),    \n",
    "                                 random_state=42) \n",
    "\n",
    "# Kết hợp lớp đa số với lớp thiểu số đã tăng cường\n",
    "df_balanced = pd.concat([df_majority, df_minority_upsampled])"
   ],
   "id": "8a37d7db05d1488f",
   "outputs": [],
   "execution_count": 10
  },
  {
   "metadata": {
    "ExecuteTime": {
     "end_time": "2025-01-14T07:43:08.587879Z",
     "start_time": "2025-01-14T07:43:08.580483Z"
    }
   },
   "cell_type": "code",
   "source": "df_balanced['TenYearCHD'].value_counts()",
   "id": "109e937a5f639cd3",
   "outputs": [
    {
     "data": {
      "text/plain": [
       "TenYearCHD\n",
       "0    3596\n",
       "1    3596\n",
       "Name: count, dtype: int64"
      ]
     },
     "execution_count": 11,
     "metadata": {},
     "output_type": "execute_result"
    }
   ],
   "execution_count": 11
  },
  {
   "metadata": {},
   "cell_type": "markdown",
   "source": "Train Test với dữ liệu gốc ",
   "id": "b5df8a53572a9ff3"
  },
  {
   "metadata": {},
   "cell_type": "markdown",
   "source": "Train Test Split and Feature Scalling",
   "id": "4b6e9718338934f2"
  },
  {
   "metadata": {
    "ExecuteTime": {
     "end_time": "2025-01-14T07:43:08.866876Z",
     "start_time": "2025-01-14T07:43:08.799687Z"
    }
   },
   "cell_type": "code",
   "source": [
    "from sklearn.model_selection import train_test_split\n",
    "from sklearn.preprocessing import StandardScaler\n",
    "from sklearn.impute import SimpleImputer\n",
    "\n",
    "# Tách các đặc trưng (X) và biến mục tiêu (y)\n",
    "X = df_balanced.drop(columns=['TenYearCHD'])\n",
    "y = df_balanced['TenYearCHD']\n",
    "\n",
    "# Chia dữ liệu thành tập huấn luyện và tập kiểm tra \n",
    "X_train, X_test, y_train, y_test = train_test_split(X, y, test_size=0.2, random_state=42)\n",
    "\n",
    "# Tiền xử lí dữ liệu\n",
    "imputer = SimpleImputer(strategy='mean')\n",
    "X_train_imputed = imputer.fit_transform(X_train)\n",
    "X_test_imputed = imputer.transform(X_test)"
   ],
   "id": "11693bb68d8f0f8a",
   "outputs": [],
   "execution_count": 12
  },
  {
   "metadata": {},
   "cell_type": "markdown",
   "source": "Scaling (StandardScale)",
   "id": "17cc94c6fb1d2389"
  },
  {
   "metadata": {
    "ExecuteTime": {
     "end_time": "2025-01-14T07:43:08.974300Z",
     "start_time": "2025-01-14T07:43:08.963404Z"
    }
   },
   "cell_type": "code",
   "source": [
    "# Khởi tạo StandardScaler\n",
    "scaler = StandardScaler()\n",
    "\n",
    "# Định hình scaler cho dữ liệu huấn luyện và biến đổi cả dữ liệu huấn luyện và dữ liệu kiểm tra\n",
    "X_train_scaled = scaler.fit_transform(X_train_imputed)\n",
    "X_test_scaled = scaler.transform(X_test_imputed)"
   ],
   "id": "73e625c923a80f4a",
   "outputs": [],
   "execution_count": 13
  },
  {
   "metadata": {},
   "cell_type": "markdown",
   "source": "Training 2 Models With Different Metrics",
   "id": "2eab8239c5644277"
  },
  {
   "metadata": {
    "ExecuteTime": {
     "end_time": "2025-01-14T07:44:30.288695Z",
     "start_time": "2025-01-14T07:44:30.041475Z"
    }
   },
   "cell_type": "code",
   "source": [
    "from sklearn.neighbors import KNeighborsClassifier\n",
    "from sklearn.naive_bayes import GaussianNB, BernoulliNB\n",
    "from sklearn.metrics import accuracy_score\n",
    "from sklearn.metrics import classification_report, confusion_matrix\n",
    "\n",
    "# Định nghĩa danh sách các bộ phân loại\n",
    "classifiers = [\n",
    "    KNeighborsClassifier(),\n",
    "    GaussianNB(),\n",
    "    BernoulliNB()\n",
    "]\n",
    "\n",
    "# Tạo một từ điển để lưu trữ kết quả\n",
    "results = {}\n",
    "\n",
    "# Huấn luyện và đánh giá từng bộ phân loại\n",
    "for clf in classifiers:\n",
    "    clf_name = clf.__class__.__name__\n",
    "    clf.fit(X_train_scaled, y_train)   \n",
    "    y_pred = clf.predict(X_test_scaled)\n",
    "\n",
    "    accuracy = accuracy_score(y_test, y_pred)\n",
    "    print(f\"{clf_name} Accuracy: {accuracy}\")\n",
    "\n",
    "    print(f\"Classification Report for {clf_name}:\")\n",
    "    print(classification_report(y_test, y_pred))\n",
    "\n",
    "    print(f\"Confusion Matrix for {clf_name}:\")\n",
    "    print(confusion_matrix(y_test, y_pred))\n",
    "    print(\"=\"*50)"
   ],
   "id": "4526f64b692312aa",
   "outputs": [
    {
     "name": "stdout",
     "output_type": "stream",
     "text": [
      "KNeighborsClassifier Accuracy: 0.7908269631688672\n",
      "Classification Report for KNeighborsClassifier:\n",
      "              precision    recall  f1-score   support\n",
      "\n",
      "           0       0.90      0.66      0.76       735\n",
      "           1       0.72      0.92      0.81       704\n",
      "\n",
      "    accuracy                           0.79      1439\n",
      "   macro avg       0.81      0.79      0.79      1439\n",
      "weighted avg       0.81      0.79      0.79      1439\n",
      "\n",
      "Confusion Matrix for KNeighborsClassifier:\n",
      "[[487 248]\n",
      " [ 53 651]]\n",
      "==================================================\n",
      "GaussianNB Accuracy: 0.5816539263377345\n",
      "Classification Report for GaussianNB:\n",
      "              precision    recall  f1-score   support\n",
      "\n",
      "           0       0.56      0.91      0.69       735\n",
      "           1       0.71      0.24      0.36       704\n",
      "\n",
      "    accuracy                           0.58      1439\n",
      "   macro avg       0.63      0.57      0.52      1439\n",
      "weighted avg       0.63      0.58      0.53      1439\n",
      "\n",
      "Confusion Matrix for GaussianNB:\n",
      "[[667  68]\n",
      " [534 170]]\n",
      "==================================================\n",
      "BernoulliNB Accuracy: 0.6337734537873523\n",
      "Classification Report for BernoulliNB:\n",
      "              precision    recall  f1-score   support\n",
      "\n",
      "           0       0.63      0.69      0.66       735\n",
      "           1       0.64      0.58      0.61       704\n",
      "\n",
      "    accuracy                           0.63      1439\n",
      "   macro avg       0.63      0.63      0.63      1439\n",
      "weighted avg       0.63      0.63      0.63      1439\n",
      "\n",
      "Confusion Matrix for BernoulliNB:\n",
      "[[506 229]\n",
      " [298 406]]\n",
      "==================================================\n"
     ]
    }
   ],
   "execution_count": 15
  },
  {
   "metadata": {},
   "cell_type": "markdown",
   "source": "Show Each Model Results",
   "id": "66a99d147ff7b86d"
  },
  {
   "metadata": {
    "ExecuteTime": {
     "end_time": "2025-01-14T07:44:35.251680Z",
     "start_time": "2025-01-14T07:44:35.073385Z"
    }
   },
   "cell_type": "code",
   "source": [
    "# Định nghĩa một danh sách các bộ phân loại\n",
    "classifiers = [\n",
    "    KNeighborsClassifier(),\n",
    "    GaussianNB(),\n",
    "    BernoulliNB()\n",
    "]\n",
    "\n",
    "# Tạo một DataFrame để lưu trữ kết quả\n",
    "results = []\n",
    "\n",
    "# Huấn luyện và đánh giá từng bộ phân loại\n",
    "for clf in classifiers:\n",
    "    clf_name = clf.__class__.__name__  \n",
    "    clf.fit(X_train_scaled, y_train)  \n",
    "    y_pred = clf.predict(X_test_scaled)  \n",
    "\n",
    "    accuracy = accuracy_score(y_test, y_pred)  \n",
    "    report = classification_report(y_test, y_pred, output_dict=True)  \n",
    "    f1_score = report['weighted avg']['f1-score']  \n",
    "    precision = report['weighted avg']['precision']  \n",
    "    recall = report['weighted avg']['recall']  \n",
    "\n",
    "    # Thêm kết quả vào DataFrame\n",
    "    results.append({'Model': clf_name, 'Accuracy': accuracy, 'F1-Score': f1_score,\n",
    "                    'Precision': precision, 'Recall': recall})\n",
    "\n",
    "results_df = pd.DataFrame(results)  \n",
    "results_df  "
   ],
   "id": "a927bfe5b1d18ad6",
   "outputs": [
    {
     "data": {
      "text/plain": [
       "                  Model  Accuracy  F1-Score  Precision    Recall\n",
       "0  KNeighborsClassifier  0.790827  0.787554   0.814909  0.790827\n",
       "1            GaussianNB  0.581654  0.528526   0.633116  0.581654\n",
       "2           BernoulliNB  0.633773  0.632547   0.634254  0.633773"
      ],
      "text/html": [
       "<div>\n",
       "<style scoped>\n",
       "    .dataframe tbody tr th:only-of-type {\n",
       "        vertical-align: middle;\n",
       "    }\n",
       "\n",
       "    .dataframe tbody tr th {\n",
       "        vertical-align: top;\n",
       "    }\n",
       "\n",
       "    .dataframe thead th {\n",
       "        text-align: right;\n",
       "    }\n",
       "</style>\n",
       "<table border=\"1\" class=\"dataframe\">\n",
       "  <thead>\n",
       "    <tr style=\"text-align: right;\">\n",
       "      <th></th>\n",
       "      <th>Model</th>\n",
       "      <th>Accuracy</th>\n",
       "      <th>F1-Score</th>\n",
       "      <th>Precision</th>\n",
       "      <th>Recall</th>\n",
       "    </tr>\n",
       "  </thead>\n",
       "  <tbody>\n",
       "    <tr>\n",
       "      <th>0</th>\n",
       "      <td>KNeighborsClassifier</td>\n",
       "      <td>0.790827</td>\n",
       "      <td>0.787554</td>\n",
       "      <td>0.814909</td>\n",
       "      <td>0.790827</td>\n",
       "    </tr>\n",
       "    <tr>\n",
       "      <th>1</th>\n",
       "      <td>GaussianNB</td>\n",
       "      <td>0.581654</td>\n",
       "      <td>0.528526</td>\n",
       "      <td>0.633116</td>\n",
       "      <td>0.581654</td>\n",
       "    </tr>\n",
       "    <tr>\n",
       "      <th>2</th>\n",
       "      <td>BernoulliNB</td>\n",
       "      <td>0.633773</td>\n",
       "      <td>0.632547</td>\n",
       "      <td>0.634254</td>\n",
       "      <td>0.633773</td>\n",
       "    </tr>\n",
       "  </tbody>\n",
       "</table>\n",
       "</div>"
      ]
     },
     "execution_count": 16,
     "metadata": {},
     "output_type": "execute_result"
    }
   ],
   "execution_count": 16
  },
  {
   "metadata": {},
   "cell_type": "markdown",
   "source": " Best Model",
   "id": "f49c5b123bca6f37"
  },
  {
   "metadata": {
    "ExecuteTime": {
     "end_time": "2025-01-14T07:44:38.576455Z",
     "start_time": "2025-01-14T07:44:38.418291Z"
    }
   },
   "cell_type": "code",
   "source": [
    "from sklearn.metrics import accuracy_score, classification_report, confusion_matrix\n",
    "from sklearn.neighbors import KNeighborsClassifier\n",
    "\n",
    "# Khởi tạo \n",
    "rf_classifier = KNeighborsClassifier()\n",
    "\n",
    "# Huấn luyện \n",
    "rf_classifier.fit(X_train_scaled, y_train)\n",
    "\n",
    "# Dự đoán trên tập kiểm tra\n",
    "y_pred_rf = rf_classifier.predict(X_test_scaled)\n",
    "\n",
    "# Tính toán độ chính xác\n",
    "accuracy_rf = accuracy_score(y_test, y_pred_rf)\n",
    "print(\"Độ chính xác của KNeighborsClassifier:\", accuracy_rf)\n",
    "\n",
    "# Báo cáo phân loại\n",
    "print(\"Báo cáo phân loại cho KNeighborsClassifier:\")\n",
    "print(classification_report(y_test, y_pred_rf))\n",
    "\n",
    "# Ma trận nhầm lẫn\n",
    "print(\"Ma trận nhầm lẫn cho KNeighborsClassifier:\")\n",
    "print(confusion_matrix(y_test, y_pred_rf))"
   ],
   "id": "d4532a6afb1d953e",
   "outputs": [
    {
     "name": "stdout",
     "output_type": "stream",
     "text": [
      "Độ chính xác của KNeighborsClassifier: 0.7908269631688672\n",
      "Báo cáo phân loại cho KNeighborsClassifier:\n",
      "              precision    recall  f1-score   support\n",
      "\n",
      "           0       0.90      0.66      0.76       735\n",
      "           1       0.72      0.92      0.81       704\n",
      "\n",
      "    accuracy                           0.79      1439\n",
      "   macro avg       0.81      0.79      0.79      1439\n",
      "weighted avg       0.81      0.79      0.79      1439\n",
      "\n",
      "Ma trận nhầm lẫn cho KNeighborsClassifier:\n",
      "[[487 248]\n",
      " [ 53 651]]\n"
     ]
    }
   ],
   "execution_count": 17
  },
  {
   "metadata": {},
   "cell_type": "markdown",
   "source": "Single prediction",
   "id": "63503ae096eae9cd"
  },
  {
   "metadata": {
    "ExecuteTime": {
     "end_time": "2025-01-14T07:44:41.666007Z",
     "start_time": "2025-01-14T07:44:41.655464Z"
    }
   },
   "cell_type": "code",
   "source": [
    "# test 1:\n",
    "print(\"Test1:\")\n",
    "print(\"predcted class \",rf_classifier.predict(X_test_scaled[10].reshape(1,-1))[0])\n",
    "print(\"actual class \", y_test.iloc[10])\n",
    "\n",
    "# test 2:\n",
    "print(\"Test2:\")\n",
    "print(\"predcted class \",rf_classifier.predict(X_test_scaled[200].reshape(1,-1))[0])\n",
    "print(\"actual class \", y_test.iloc[200])\n",
    "\n",
    "# test 3:\n",
    "print(\"Test3:\")\n",
    "print(\"predcted class \",rf_classifier.predict(X_test_scaled[110].reshape(1,-1))[0])\n",
    "print(\"actual class \", y_test.iloc[110])"
   ],
   "id": "4c919290e6e9d888",
   "outputs": [
    {
     "name": "stdout",
     "output_type": "stream",
     "text": [
      "Test1:\n",
      "predcted class  0\n",
      "actual class  0\n",
      "Test2:\n",
      "predcted class  1\n",
      "actual class  1\n",
      "Test3:\n",
      "predcted class  1\n",
      "actual class  1\n"
     ]
    }
   ],
   "execution_count": 18
  },
  {
   "metadata": {},
   "cell_type": "markdown",
   "source": "Save Model",
   "id": "3f4f0fd3a2342ac8"
  },
  {
   "metadata": {
    "ExecuteTime": {
     "end_time": "2025-01-14T07:44:44.561910Z",
     "start_time": "2025-01-14T07:44:44.549643Z"
    }
   },
   "cell_type": "code",
   "source": [
    "import pickle\n",
    "pickle.dump(rf_classifier,open(\"rf_classifier.pkl\",'wb'))\n",
    "pickle.dump(scaler,open(\"scaler.pkl\",'wb'))"
   ],
   "id": "116e101a87990ee2",
   "outputs": [],
   "execution_count": 19
  },
  {
   "metadata": {},
   "cell_type": "markdown",
   "source": "Load model to test 1",
   "id": "915b73fba4b668bc"
  },
  {
   "metadata": {
    "ExecuteTime": {
     "end_time": "2025-01-14T07:44:46.272888Z",
     "start_time": "2025-01-14T07:44:46.207348Z"
    }
   },
   "cell_type": "code",
   "source": [
    "import pickle\n",
    "\n",
    "# Tải mô hình \n",
    "with open(\"rf_classifier.pkl\", \"rb\") as file:\n",
    "    rf_classifier = pickle.load(file)\n",
    "\n",
    "# Tải bộ chuẩn hóa\n",
    "with open(\"scaler.pkl\", \"rb\") as file:\n",
    "    scaler = pickle.load(file)"
   ],
   "id": "1639d2a52dde56ac",
   "outputs": [],
   "execution_count": 20
  },
  {
   "metadata": {},
   "cell_type": "markdown",
   "source": "Predictive System",
   "id": "16a14518fd9854c5"
  },
  {
   "metadata": {
    "ExecuteTime": {
     "end_time": "2025-01-14T07:44:50.364820Z",
     "start_time": "2025-01-14T07:44:50.356404Z"
    }
   },
   "cell_type": "code",
   "source": [
    "def predict(model, scaler, male, age, currentSmoker, cigsPerDay, BPMeds, prevalentStroke, prevalentHyp, diabetes, totChol, sysBP, diaBP, BMI, heartRate, glucose):\n",
    "    # Mã hóa các biến phân loại\n",
    "    male_encoded = 1 if male.lower() == \"male\" else 0\n",
    "    currentSmoker_encoded = 1 if currentSmoker.lower() == \"yes\" else 0\n",
    "    BPMeds_encoded = 1 if BPMeds.lower() == \"yes\" else 0\n",
    "    prevalentStroke_encoded = 1 if prevalentStroke.lower() == \"yes\" else 0\n",
    "    prevalentHyp_encoded = 1 if prevalentHyp.lower() == \"yes\" else 0\n",
    "    diabetes_encoded = 1 if diabetes.lower() == \"yes\" else 0\n",
    "\n",
    "    # Chuẩn bị mảng đặc trưng\n",
    "    features = np.array([[male_encoded, age, currentSmoker_encoded, cigsPerDay, BPMeds_encoded, prevalentStroke_encoded, prevalentHyp_encoded, diabetes_encoded, totChol, sysBP, diaBP, BMI, heartRate, glucose]])\n",
    "\n",
    "    # Chuẩn hóa\n",
    "    scaled_features = scaler.transform(features)\n",
    "\n",
    "    # Dự đoán bằng mô hình\n",
    "    result = model.predict(scaled_features)\n",
    "\n",
    "    return result[0]"
   ],
   "id": "d69d22c9565a9b11",
   "outputs": [],
   "execution_count": 21
  },
  {
   "metadata": {
    "ExecuteTime": {
     "end_time": "2025-01-14T07:44:53.350227Z",
     "start_time": "2025-01-14T07:44:53.340619Z"
    }
   },
   "cell_type": "code",
   "source": [
    "# test 1:\n",
    "male = \"female\"\n",
    "age = 56.00\n",
    "currentSmoker = \"yes\"\n",
    "cigsPerDay = 3.00\n",
    "BPMeds = \"no\"\n",
    "prevalentStroke = \"no\"\n",
    "prevalentHyp = \"yes\"\n",
    "diabetes = 'no'\n",
    "totChol = 285.00\n",
    "sysBP = 145.00\n",
    "diaBP = 100.00\n",
    "BMI = 30.14\n",
    "heartRate = 80.00\n",
    "glucose = 86.00\n",
    "\n",
    "result = predict(rf_classifier, scaler, male, age, currentSmoker, cigsPerDay, BPMeds, prevalentStroke, prevalentHyp, diabetes, totChol, sysBP, diaBP, BMI, heartRate, glucose)\n",
    "\n",
    "if result == 1:\n",
    "    print(\"The Patient has Heart Diseas\")\n",
    "else:\n",
    "    print(\"The Patiennt has No Heart Deseas\")"
   ],
   "id": "8fde8e4605738e63",
   "outputs": [
    {
     "name": "stdout",
     "output_type": "stream",
     "text": [
      "The Patiennt has No Heart Deseas\n"
     ]
    }
   ],
   "execution_count": 22
  },
  {
   "metadata": {
    "ExecuteTime": {
     "end_time": "2025-01-14T07:44:57.799092Z",
     "start_time": "2025-01-14T07:44:57.790176Z"
    }
   },
   "cell_type": "code",
   "source": [
    "#Test 2\n",
    "male = 'female'\n",
    "age = 63.0\n",
    "currentSmoker = 'yes'\n",
    "cigsPerDay = 3.0\n",
    "BPMeds = 'no'\n",
    "prevalentStroke = 'no'\n",
    "prevalentHyp = 'yes'\n",
    "diabetes = 'no'\n",
    "totChol = 267.0\n",
    "sysBP = 156.5\n",
    "diaBP = 92.5\n",
    "BMI = 27.1\n",
    "heartRate = 60.0\n",
    "glucose = 79.0\n",
    "result = 1.0\n",
    "\n",
    "result = predict(rf_classifier, scaler, male, age, currentSmoker, cigsPerDay, BPMeds, prevalentStroke, prevalentHyp, diabetes, totChol, sysBP, diaBP, BMI, heartRate, glucose)\n",
    "\n",
    "if result == 1:\n",
    "    print(\"The Patient has Heart Diseas\")\n",
    "else:\n",
    "    print(\"The Patiennt has No Heart Deseas\")"
   ],
   "id": "4f8d14a8be5756d",
   "outputs": [
    {
     "name": "stdout",
     "output_type": "stream",
     "text": [
      "The Patient has Heart Diseas\n"
     ]
    }
   ],
   "execution_count": 23
  }
 ],
 "metadata": {
  "kernelspec": {
   "display_name": "Python 3",
   "language": "python",
   "name": "python3"
  },
  "language_info": {
   "codemirror_mode": {
    "name": "ipython",
    "version": 2
   },
   "file_extension": ".py",
   "mimetype": "text/x-python",
   "name": "python",
   "nbconvert_exporter": "python",
   "pygments_lexer": "ipython2",
   "version": "2.7.6"
  }
 },
 "nbformat": 4,
 "nbformat_minor": 5
}
