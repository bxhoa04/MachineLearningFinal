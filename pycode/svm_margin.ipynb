{
 "cells": [
  {
   "metadata": {},
   "cell_type": "markdown",
   "source": "# Soft Margin trong bài toán phân loại",
   "id": "3a8ae30e628361b2"
  },
  {
   "metadata": {
    "ExecuteTime": {
     "end_time": "2025-01-14T12:03:44.153320Z",
     "start_time": "2025-01-14T12:03:43.508341Z"
    }
   },
   "cell_type": "code",
   "source": [
    "import warnings\n",
    "import pandas as pd\n",
    "from sklearn.neighbors import KNeighborsClassifier, KNeighborsRegressor\n",
    "\n",
    "warnings.filterwarnings('ignore')\n",
    "from sklearn.linear_model import LinearRegression\n",
    "from sklearn.metrics import mean_squared_error, r2_score\n",
    "from sklearn.decomposition import  KernelPCA\n",
    "from sklearn.svm import SVC\n",
    "from sklearn.impute import SimpleImputer\n",
    "from sklearn.metrics import accuracy_score, classification_report, confusion_matrix\n",
    "from sklearn.model_selection import train_test_split\n",
    "from sklearn.preprocessing import StandardScaler\n",
    "from data_preprocessor import DataPreprocessor\n",
    "import warnings\n",
    "warnings.filterwarnings('ignore')"
   ],
   "id": "76f2d841b0a26b75",
   "outputs": [],
   "execution_count": 2
  },
  {
   "cell_type": "code",
   "id": "initial_id",
   "metadata": {
    "collapsed": true,
    "ExecuteTime": {
     "end_time": "2025-01-13T19:27:15.216658Z",
     "start_time": "2025-01-13T19:27:15.194623Z"
    }
   },
   "source": [
    "class softmargin_SVM:\n",
    "    def __init__(self, data_path, target_column, n_components=2, test_size=0.2, random_state=42):\n",
    "        self.data_path = data_path\n",
    "        self.target_column = target_column\n",
    "        self.n_components = n_components\n",
    "        self.test_size = test_size\n",
    "        self.random_state = random_state\n",
    "\n",
    "        preprocessor = DataPreprocessor(self.data_path, self.target_column)\n",
    "        self.X, self.y, self.df = preprocessor.preprocess()\n",
    "\n",
    "    def _scale_and_impute(self, X):\n",
    "        scaler = StandardScaler()\n",
    "        imputer = SimpleImputer(strategy='mean')\n",
    "        return imputer.fit_transform(scaler.fit_transform(X))\n",
    "\n",
    "    def _evaluate_classifiers(self, X_train, X_test, y_train, y_test, classifiers):\n",
    "        results = {}\n",
    "        for clf in classifiers:\n",
    "            clf_name = clf.__class__.__name__\n",
    "            clf.fit(X_train, y_train)\n",
    "            y_pred = clf.predict(X_test)\n",
    "            results[clf_name] = {\n",
    "                \"accuracy\": accuracy_score(y_test, y_pred),\n",
    "                \"classification_report\": classification_report(y_test, y_pred),\n",
    "                \"matrix\": confusion_matrix(y_test, y_pred)\n",
    "            }\n",
    "        return results\n",
    "\n",
    "    def results_classifier_original(self, classifiers):\n",
    "        X_train, X_test, y_train, y_test = train_test_split(self.X, self.y, test_size=self.test_size,\n",
    "                                                            random_state=self.random_state)\n",
    "        X_train_scaled, X_test_scaled = self._scale_and_impute(X_train), self._scale_and_impute(X_test)\n",
    "        return self._evaluate_classifiers(X_train_scaled, X_test_scaled, y_train, y_test, classifiers)\n",
    "\n",
    "    def apply_pca(self, classifiers):\n",
    "        # Áp dụng PCA để giảm chiều\n",
    "        from pca import PCA_Processor, print_results  \n",
    "        pca_processor = PCA_Processor(\n",
    "            data_path=self.data_path,\n",
    "            target_column=self.target_column,\n",
    "            n_components=self.n_components,\n",
    "            test_size=self.test_size,\n",
    "            random_state=self.random_state\n",
    "        )\n",
    "        pca_processor.n_components = 5\n",
    "\n",
    "        results_pca_before = pca_processor.apply_pca_before_split(classifiers)\n",
    "        print(\"\\n\\n===== Kết quả với dữ liệu sau khi áp dụng giảm chiều PCA =====\")\n",
    "        print_results(results_pca_before)\n",
    "\n",
    "    def apply_umap(self, classifiers):\n",
    "        # Áp dụng UMAP để giảm chiều\n",
    "        from umap_function_2 import UMAP_Processor, print_results\n",
    "        umap_processor = UMAP_Processor(\n",
    "            data_path=self.data_path,\n",
    "            target_column=self.target_column,\n",
    "            n_components=self.n_components,\n",
    "            test_size=self.test_size,\n",
    "            random_state=self.random_state\n",
    "        )\n",
    "        results_after_umap = umap_processor.apply_optimal_n_components(classifiers)\n",
    "\n",
    "        print(\"\\n\\n===== Kết quả với dữ liệu sau khi áp dụng giảm chiều UMAP =====\")\n",
    "        print_results(results_after_umap)\n",
    "\n",
    "def print_results(results):\n",
    "    for clf_name, metrics in results.items():\n",
    "        print(f\"Accuracy {clf_name:<25}{metrics['accuracy'] : <10.4f}\")\n",
    "        print(f\"\\nClassification Report for {clf_name}:\")\n",
    "        print(metrics['classification_report'])\n",
    "        print(f\"\\nConfusion Matrix for {clf_name}:\")\n",
    "        print(metrics['matrix'])\n"
   ],
   "outputs": [],
   "execution_count": 37
  },
  {
   "metadata": {},
   "cell_type": "code",
   "source": [
    "classifiers = [\n",
    "    SVC(kernel='linear', C=50),  \n",
    "]\n",
    "\n",
    "softmargin_svm = softmargin_SVM(\n",
    "    data_path='../data/framingham.csv',  \n",
    "    target_column='TenYearCHD',  \n",
    "    n_components=2,  \n",
    "    test_size=0.2,  \n",
    "    random_state=42  \n",
    ")"
   ],
   "id": "f0ded3a0e575a47d",
   "outputs": [],
   "execution_count": null
  },
  {
   "metadata": {
    "ExecuteTime": {
     "end_time": "2025-01-13T17:07:43.957289Z",
     "start_time": "2025-01-13T17:07:10.418696Z"
    }
   },
   "cell_type": "code",
   "source": [
    "print(\"\\n\\n===== Kết quả với dữ liệu gốc =====\")\n",
    "results_original = softmargin_svm.results_classifier_original(classifiers)\n",
    "print_results(results_original)"
   ],
   "id": "be8bf834dc161074",
   "outputs": [
    {
     "name": "stdout",
     "output_type": "stream",
     "text": [
      "\n",
      "\n",
      "===== Kết quả với dữ liệu gốc =====\n",
      "Accuracy SVC                      0.6491    \n",
      "\n",
      "Classification Report for SVC:\n",
      "              precision    recall  f1-score   support\n",
      "\n",
      "           0       0.67      0.61      0.64       735\n",
      "           1       0.63      0.69      0.66       704\n",
      "\n",
      "    accuracy                           0.65      1439\n",
      "   macro avg       0.65      0.65      0.65      1439\n",
      "weighted avg       0.65      0.65      0.65      1439\n",
      "\n",
      "\n",
      "Confusion Matrix for SVC:\n",
      "[[451 284]\n",
      " [221 483]]\n"
     ]
    }
   ],
   "execution_count": 3
  },
  {
   "metadata": {
    "ExecuteTime": {
     "end_time": "2025-01-13T17:07:57.652372Z",
     "start_time": "2025-01-13T17:07:44.098178Z"
    }
   },
   "cell_type": "code",
   "source": "softmargin_svm.apply_pca(classifiers)",
   "id": "d620e51d9795469e",
   "outputs": [
    {
     "name": "stdout",
     "output_type": "stream",
     "text": [
      "\n",
      "\n",
      "===== Kết quả với dữ liệu sau khi áp dụng giảm chiều PCA =====\n",
      "Accuracy SVC            0.6567    \n",
      "\n",
      "Classification Report for SVC:\n",
      "              precision    recall  f1-score   support\n",
      "\n",
      "           0       0.66      0.67      0.67       735\n",
      "           1       0.65      0.64      0.65       704\n",
      "\n",
      "    accuracy                           0.66      1439\n",
      "   macro avg       0.66      0.66      0.66      1439\n",
      "weighted avg       0.66      0.66      0.66      1439\n",
      "\n",
      "\n",
      "Confusion Matrix for SVC:\n",
      "[[492 243]\n",
      " [251 453]]\n"
     ]
    }
   ],
   "execution_count": 4
  },
  {
   "metadata": {
    "jupyter": {
     "is_executing": true
    },
    "ExecuteTime": {
     "start_time": "2025-01-13T17:07:57.764757Z"
    }
   },
   "cell_type": "code",
   "source": "softmargin_svm.apply_umap(classifiers)",
   "id": "df4b7ffa58c97b73",
   "outputs": [],
   "execution_count": null
  },
  {
   "metadata": {},
   "cell_type": "markdown",
   "source": "# SVM trong bài toán Hồi quy ",
   "id": "919a4120d5146d1f"
  },
  {
   "metadata": {
    "ExecuteTime": {
     "end_time": "2025-01-14T07:52:52.706632Z",
     "start_time": "2025-01-14T07:52:46.737808Z"
    }
   },
   "cell_type": "code",
   "source": [
    "class RegressionFromSVM:\n",
    "    def __init__(self, data_path, target_column, n_components=5, test_size=0.2, random_state=42):\n",
    "        self.data_path = data_path\n",
    "        self.target_column = target_column\n",
    "        self.n_components = n_components\n",
    "        self.test_size = test_size\n",
    "        self.random_state = random_state\n",
    "\n",
    "        preprocessor = DataPreprocessor(self.data_path, self.target_column)\n",
    "        self.X, self.y = preprocessor.preprocess()\n",
    "\n",
    "    def _scale_and_impute(self, X):\n",
    "        scaler = StandardScaler()\n",
    "        return scaler.fit_transform(X)\n",
    "\n",
    "    def _get_decision_values(self):\n",
    "        svm_model = SVC(kernel='linear', probability=True)\n",
    "        X_train, X_test, y_train, y_test = train_test_split(self.X, self.y, test_size=self.test_size,\n",
    "                                                            random_state=self.random_state)\n",
    "        X_train_scaled = self._scale_and_impute(X_train)\n",
    "        svm_model.fit(X_train_scaled, y_train)\n",
    "\n",
    "        X_test_scaled = self._scale_and_impute(X_test)\n",
    "        decision_values = svm_model.decision_function(X_test_scaled)\n",
    "         \n",
    "        return decision_values, y_test\n",
    "\n",
    "    def evaluate_regression_on_decision_values(self, regressors):\n",
    "        decision_values, y_test = self._get_decision_values()\n",
    "\n",
    "        X_train, X_test, y_train, y_test = train_test_split(decision_values.reshape(-1, 1), y_test, \n",
    "                                                            test_size=self.test_size, random_state=self.random_state)\n",
    "\n",
    "        results = []\n",
    "        for reg in regressors:\n",
    "            reg_name = reg.__class__.__name__\n",
    "            reg.fit(X_train, y_train)\n",
    "            y_pred = reg.predict(X_test)\n",
    "            mse = mean_squared_error(y_test, y_pred)\n",
    "            r2 = r2_score(y_test, y_pred)\n",
    "            results.append([reg_name, mse, r2])\n",
    "\n",
    "        return pd.DataFrame(results, columns=[\"Model\", \"MSE\", \"R^2 Score\"])\n",
    "\n",
    "    def evaluate_regression_on_reduced_data(self, regressors):\n",
    "        # Lấy giá trị hàm quyết định từ SVM\n",
    "        decision_values, y_test = self._get_decision_values()\n",
    "\n",
    "        # Giảm chiều dữ liệu bằng PCA\n",
    "        pca = KernelPCA(n_components=5)\n",
    "        decision_values_pca = pca.fit_transform(decision_values.reshape(-1, 1))\n",
    "\n",
    "        # Chia dữ liệu đã giảm chiều thành tập huấn luyện và kiểm tra\n",
    "        X_train, X_test, y_train, y_test = train_test_split(decision_values_pca, y_test, \n",
    "                                                            test_size=self.test_size, random_state=self.random_state)\n",
    "\n",
    "        results = []\n",
    "        for reg in regressors:\n",
    "            reg_name = reg.__class__.__name__\n",
    "            reg.fit(X_train, y_train)\n",
    "            y_pred = reg.predict(X_test)\n",
    "            mse = mean_squared_error(y_test, y_pred)\n",
    "            r2 = r2_score(y_test, y_pred)\n",
    "            results.append([reg_name, mse, r2])\n",
    "\n",
    "        return pd.DataFrame(results, columns=[\"Model\", \"MSE\", \"R^2 Score\"])\n",
    "\n",
    "if __name__ == \"__main__\":\n",
    "    data_path = '../data/framingham.csv'\n",
    "    target_column = 'TenYearCHD'\n",
    "    regressors = [LinearRegression(), KNeighborsRegressor()]\n",
    "\n",
    "    regression_model = RegressionFromSVM(data_path, target_column)\n",
    "    \n",
    "    results_decision_values = regression_model.evaluate_regression_on_decision_values(regressors)\n",
    "    print(\"Kết quả hồi quy trên dữ liệu gốc:\")\n",
    "    print(results_decision_values)\n",
    "\n",
    "    results_reduced_data = regression_model.evaluate_regression_on_reduced_data(regressors)\n",
    "    print(\"\\nKết quả hồi quy trên dữ liệu đã giảm chiều:\")\n",
    "    print (results_reduced_data)"
   ],
   "id": "d284df5fc480f477",
   "outputs": [
    {
     "name": "stdout",
     "output_type": "stream",
     "text": [
      "Kết quả hồi quy trên dữ liệu gốc:\n",
      "                 Model       MSE  R^2 Score\n",
      "0     LinearRegression  0.214361   0.142158\n",
      "1  KNeighborsRegressor  0.151466   0.393854\n",
      "\n",
      "Kết quả hồi quy trên dữ liệu đã giảm chiều:\n",
      "                 Model       MSE  R^2 Score\n",
      "0     LinearRegression  0.204250   0.182960\n",
      "1  KNeighborsRegressor  0.235139   0.059399\n"
     ]
    }
   ],
   "execution_count": 22
  }
 ],
 "metadata": {
  "kernelspec": {
   "display_name": "Python 3",
   "language": "python",
   "name": "python3"
  },
  "language_info": {
   "codemirror_mode": {
    "name": "ipython",
    "version": 2
   },
   "file_extension": ".py",
   "mimetype": "text/x-python",
   "name": "python",
   "nbconvert_exporter": "python",
   "pygments_lexer": "ipython2",
   "version": "2.7.6"
  }
 },
 "nbformat": 4,
 "nbformat_minor": 5
}
